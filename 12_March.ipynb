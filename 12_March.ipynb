{
 "cells": [
  {
   "cell_type": "markdown",
   "metadata": {},
   "source": [
    "Q1. To calculate the 95% confidence interval for a sample of data with a mean of 50 and a standard deviation of 5 using Python, you can use the stats module from the scipy library. Here's how you can do it:"
   ]
  },
  {
   "cell_type": "code",
   "execution_count": null,
   "metadata": {},
   "outputs": [],
   "source": [
    "import scipy.stats as stats\n",
    "\n",
    "mean = 50\n",
    "std_dev = 5\n",
    "sample_size = 100  # Assuming a sample size of 100\n",
    "\n",
    "confidence_level = 0.95\n",
    "alpha = 1 - confidence_level\n",
    "\n",
    "# Calculate the standard error\n",
    "standard_error = std_dev / (sample_size ** 0.5)\n",
    "\n",
    "# Calculate the margin of error\n",
    "margin_of_error = stats.t.ppf(1 - alpha / 2, sample_size - 1) * standard_error\n",
    "\n",
    "# Calculate the confidence interval\n",
    "lower_bound = mean - margin_of_error\n",
    "upper_bound = mean + margin_of_error\n",
    "\n",
    "# Print the results\n",
    "print(f\"95% Confidence Interval: ({lower_bound:.2f}, {upper_bound:.2f})\")\n"
   ]
  },
  {
   "cell_type": "markdown",
   "metadata": {},
   "source": [
    "Q2. To conduct a chi-square goodness of fit test to determine if the distribution of colors of M&Ms in a bag matches the expected distribution, you can use the chisquare function from the scipy.stats module. Here's how you can do it:"
   ]
  },
  {
   "cell_type": "code",
   "execution_count": null,
   "metadata": {},
   "outputs": [],
   "source": [
    "import scipy.stats as stats\n",
    "\n",
    "observed = [blue_count, orange_count, green_count, yellow_count, red_count, brown_count]  # Counts of observed colors\n",
    "expected = [bag_size * 0.2] * 6  # Expected counts assuming equal proportions\n",
    "\n",
    "# Perform the chi-square goodness of fit test\n",
    "chi2_stat, p_value = stats.chisquare(observed, expected)\n",
    "\n",
    "# Print the results\n",
    "print(f\"Chi-square statistic: {chi2_stat:.2f}\")\n",
    "print(f\"P-value: {p_value:.4f}\")\n"
   ]
  },
  {
   "cell_type": "markdown",
   "metadata": {},
   "source": [
    "Q3. To calculate the chi-square statistic and p-value for a contingency table using Python, you can use the chi2_contingency function from the scipy.stats module. Here's how you can do it:"
   ]
  },
  {
   "cell_type": "code",
   "execution_count": null,
   "metadata": {},
   "outputs": [],
   "source": [
    "import scipy.stats as stats\n",
    "import numpy as np\n",
    "\n",
    "# Create the contingency table\n",
    "observed = np.array([[20, 15], [10, 25], [15, 20]])\n",
    "\n",
    "# Perform the chi-square test for independence\n",
    "chi2_stat, p_value, _, _ = stats.chi2_contingency(observed)\n",
    "\n",
    "# Print the results\n",
    "print(f\"Chi-square statistic: {chi2_stat:.2f}\")\n",
    "print(f\"P-value: {p_value:.4f}\")\n"
   ]
  },
  {
   "cell_type": "markdown",
   "metadata": {},
   "source": [
    "Q4. To calculate the 95% confidence interval for the true proportion of individuals in the population who smoke using Python, you can use the proportion_confint function from the statsmodels.stats.proportion module. Here's how you can do it:"
   ]
  },
  {
   "cell_type": "code",
   "execution_count": null,
   "metadata": {},
   "outputs": [],
   "source": [
    "import statsmodels.stats.proportion as proportion\n",
    "\n",
    "total_population = 500\n",
    "smokers = 60\n",
    "\n",
    "# Calculate the true proportion of smokers\n",
    "smoking_proportion = smokers / total_population\n",
    "\n",
    "# Calculate the confidence interval\n",
    "confidence_interval = proportion.proportion_confint(smokers, total_population, alpha=0.05, method='normal')\n",
    "\n",
    "# Print the results\n",
    "print(f\"95% Confidence Interval: ({confidence_interval[0]:.4f}, {confidence_interval[1]:.4f})\")\n"
   ]
  },
  {
   "cell_type": "markdown",
   "metadata": {},
   "source": [
    "Q5. To calculate the 90% confidence interval for a sample of data with a mean of 75 and a standard deviation of 12 using Python, you can use the norm function from the scipy.stats module. Here's how you can do it:\n",
    "\n",
    "python"
   ]
  },
  {
   "cell_type": "code",
   "execution_count": null,
   "metadata": {},
   "outputs": [],
   "source": [
    "import scipy.stats as stats\n",
    "\n",
    "mean = 75\n",
    "std_dev = 12\n",
    "sample_size = 100  # Assuming a sample size of 100\n",
    "\n",
    "confidence_level = 0.90\n",
    "alpha = 1 - confidence_level\n",
    "\n",
    "# Calculate the standard error\n",
    "standard_error = std_dev / (sample_size ** 0.5)\n",
    "\n",
    "# Calculate the margin of error\n",
    "margin_of_error = stats.norm.ppf(1 - alpha / 2) * standard_error\n",
    "\n",
    "# Calculate the confidence interval\n",
    "lower_bound = mean - margin_of_error\n",
    "upper_bound = mean + margin_of_error\n",
    "\n",
    "# Print the results\n",
    "print(f\"90% Confidence Interval: ({lower_bound:.2f}, {upper_bound:.2f})\")\n"
   ]
  },
  {
   "cell_type": "markdown",
   "metadata": {},
   "source": [
    "Q6. To plot the chi-square distribution with 10 degrees of freedom and shade the area corresponding to a chi-square statistic of 15 using Python, you can use the chi2 function from the scipy.stats module. Here's an example of how you can do it:\n",
    "\n",
    "python\n"
   ]
  },
  {
   "cell_type": "code",
   "execution_count": null,
   "metadata": {},
   "outputs": [],
   "source": [
    "import numpy as np\n",
    "import matplotlib.pyplot as plt\n",
    "import scipy.stats as stats\n",
    "\n",
    "df = 10  # Degrees of freedom\n",
    "x = np.linspace(0, 30, 500)  # Range of chi-square values\n",
    "\n",
    "# Plot the chi-square distribution\n",
    "plt.plot(x, stats.chi2.pdf(x, df))\n",
    "\n",
    "# Shade the area corresponding to chi-square statistic of 15\n",
    "plt.fill_between(x, stats.chi2.pdf(x, df), where=(x >= 15), color='gray', alpha=0.5)\n",
    "\n",
    "# Label the axes\n",
    "plt.xlabel('Chi-square value')\n",
    "plt.ylabel('Probability density')\n",
    "\n",
    "# Show the plot\n",
    "plt.show()\n"
   ]
  },
  {
   "cell_type": "markdown",
   "metadata": {},
   "source": [
    "Q7. To calculate a 99% confidence interval for the true proportion of people in the population who prefer Coke based on a random sample of 1000 people, where 520 preferred Coke, you can use the proportion_confint function from the statsmodels.stats.proportion module. Here's how you can do it:"
   ]
  },
  {
   "cell_type": "code",
   "execution_count": null,
   "metadata": {},
   "outputs": [],
   "source": [
    "import statsmodels.stats.proportion as proportion\n",
    "\n",
    "total_population = 1000\n",
    "coke_preferred = 520\n",
    "\n",
    "# Calculate the true proportion of people who prefer Coke\n",
    "coke_proportion = coke_preferred / total_population\n",
    "\n",
    "# Calculate the confidence interval\n",
    "confidence_interval = proportion.proportion_confint(coke_preferred, total_population, alpha=0.01, method='normal')\n",
    "\n",
    "# Print the results\n",
    "print(f\"99% Confidence Interval: ({confidence_interval[0]:.4f}, {confidence_interval[1]:.4f})\")\n"
   ]
  },
  {
   "cell_type": "markdown",
   "metadata": {},
   "source": [
    "Q8. To conduct a chi-square goodness of fit test to determine if the observed frequencies of 45 tails out of 100 coin flips match the expected frequencies of a fair coin, you can use the chisquare function from the scipy.stats module. Here's how you can do it:"
   ]
  },
  {
   "cell_type": "code",
   "execution_count": null,
   "metadata": {},
   "outputs": [],
   "source": [
    "import scipy.stats as stats\n",
    "\n",
    "observed = [45, 55]  # Observed frequencies of tails and heads\n",
    "expected = [50, 50]  # Expected frequencies assuming a fair coin\n",
    "\n",
    "# Perform the chi-square goodness of fit test\n",
    "chi2_stat, p_value = stats.chisquare(observed, expected)\n",
    "\n",
    "# Print the results\n",
    "print(f\"Chi-square statistic: {chi2_stat:.2f}\")\n",
    "print(f\"P-value: {p_value:.4f}\")\n"
   ]
  },
  {
   "cell_type": "markdown",
   "metadata": {},
   "source": [
    "Q9. To conduct a chi-square test for independence to determine if there is a significant association between smoking status and lung cancer diagnosis based on the contingency table, you can use the chi2_contingency function from the scipy.stats module. Here's how you can do it:"
   ]
  },
  {
   "cell_type": "code",
   "execution_count": null,
   "metadata": {},
   "outputs": [],
   "source": [
    "import scipy.stats as stats\n",
    "import numpy as np\n",
    "\n",
    "# Create the contingency table\n",
    "observed = np.array([[60, 140], [30, 170]])\n",
    "\n",
    "# Perform the chi-square test for independence\n",
    "chi2_stat, p_value, _, _ = stats.chi2_contingency(observed)\n",
    "\n",
    "# Print the results\n",
    "print(f\"Chi-square statistic: {chi2_stat:.2f}\")\n",
    "print(f\"P-value: {p_value:.4f}\")\n"
   ]
  },
  {
   "cell_type": "markdown",
   "metadata": {},
   "source": [
    "Q11. To conduct a hypothesis test to determine if the population mean is significantly different from 70 based on a random sample of 30 people with a sample mean of 72 and a sample standard deviation of 10, you can use a one-sample t-test. Here's how you can do it:"
   ]
  },
  {
   "cell_type": "code",
   "execution_count": null,
   "metadata": {},
   "outputs": [],
   "source": [
    "import scipy.stats as stats\n",
    "\n",
    "sample_mean = 72\n",
    "sample_std_dev = 10\n",
    "sample_size = 30\n",
    "population_mean = 70\n",
    "\n",
    "# Calculate the t-statistic and p-value\n",
    "t_stat, p_value = stats.ttest_1samp([sample_mean], population_mean)\n",
    "\n",
    "# Print the results\n",
    "print(f\"T-statistic: {t_stat:.2f}\")\n",
    "print(f\"P-value: {p_value:.4f}\")\n"
   ]
  }
 ],
 "metadata": {
  "kernelspec": {
   "display_name": "base",
   "language": "python",
   "name": "python3"
  },
  "language_info": {
   "codemirror_mode": {
    "name": "ipython",
    "version": 3
   },
   "file_extension": ".py",
   "mimetype": "text/x-python",
   "name": "python",
   "nbconvert_exporter": "python",
   "pygments_lexer": "ipython3",
   "version": "3.10.9"
  },
  "orig_nbformat": 4
 },
 "nbformat": 4,
 "nbformat_minor": 2
}
